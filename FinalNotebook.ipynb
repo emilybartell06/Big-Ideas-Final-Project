{
 "cells": [
  {
   "cell_type": "markdown",
   "id": "8b871362-8c76-4f8a-a79e-4ef60fe1ccdd",
   "metadata": {},
   "source": [
    "**Introduction:** For our project we decided to focus on safety and accessability as the defining factors for the best neighborhood. When thinking about what our metric should be we decided that a neighborhood being secure and inclusive for everyone was the most important quality for a greatest neighborhood to have. Other alternative options that crossed our minds were factors such as the most fun, the prettiest, or the biggest, but ultimately we landed on safest/most accessable. We approached this project by each working on our own datasets separately and then coming together to analyze them and find which neighborhood is the best. We found that finding our own result and then comparing to the rest of the groups allowed us to find the best neighborhood without any biase. "
   ]
  },
  {
   "cell_type": "markdown",
   "id": "8ee9627f-e167-4c3c-942c-18cf0d54d2c1",
   "metadata": {},
   "source": [
    "**Metric:** Our metric is safety and accessability. The datasets that we analyzed to come to a conclusion about our metric were fire incidents, crime rates, firearm seizures, and education oppurtunities. These first three datasets focus more on the safety of the location and how secure of a location it is to live in. We felt that this was extremely important since people should feel comfortable and not in any danger in their place of living. Our other dataset revolves more around the amount of access the neighborhoods have to things that are needed in order for the citizens to be successful. Having good education available will allow children to grow, learn, and be prepared for the future. Overall, our group decided that the metric that makes a neighborhood the \"best\" is how safe and accessable it is. "
   ]
  },
  {
   "cell_type": "markdown",
   "id": "9388b309-cb21-44b8-867b-00a9390bc2a8",
   "metadata": {},
   "source": [
    "**The Best Neighborhood:** After analyzing all of our datasets and submetrics we decided that the best neighborhood to live in in the city of Pittsburgh is *---------*. We found that this neighborhood is both the safest and has the most accessability. This means that people of all ages living in *-------* are able to not worry much about being in any dangerous situations. As well the citizens can get a great eduction which will help them in the world and in their future career and they are able to use transit to get to all areas of town. This is the data that we collected that show and prove our results. \n",
    "\n",
    "*----(add ranking of neighborhoods) (personal graphs)----*"
   ]
  },
  {
   "cell_type": "markdown",
   "id": "c3a481b2-34f7-4816-8dfb-47f5e7764230",
   "metadata": {},
   "source": [
    "**Conclusion:** \n",
    "\n",
    "Eliza: \n",
    "\n",
    "Emily: Based on the analysis of my dataset I found that Fairywood was the safest neighborhood to live in since they had the least amount of firest reported. These findings are different from my personal favorite neighborhood which is Shadyside. Though Shadyside is also on the safer side when it comes to fire incidents, it was interesting to see how many more fires there were here compared to some other neighborhoods. \n",
    "\n",
    "Scarlet:\n",
    "\n",
    "Ella:"
   ]
  }
 ],
 "metadata": {
  "kernelspec": {
   "display_name": "Python 3 (ipykernel)",
   "language": "python",
   "name": "python3"
  },
  "language_info": {
   "codemirror_mode": {
    "name": "ipython",
    "version": 3
   },
   "file_extension": ".py",
   "mimetype": "text/x-python",
   "name": "python",
   "nbconvert_exporter": "python",
   "pygments_lexer": "ipython3",
   "version": "3.12.4"
  }
 },
 "nbformat": 4,
 "nbformat_minor": 5
}
