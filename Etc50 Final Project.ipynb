{
 "cells": [
  {
   "cell_type": "markdown",
   "id": "a6e554f4-9037-423c-ad49-0dd36774a6a7",
   "metadata": {},
   "source": [
    "Police Arrests In Each Neighboorhood:"
   ]
  },
  {
   "cell_type": "code",
   "execution_count": 45,
   "id": "d76a5d02-3d55-445f-b569-f307d67273f7",
   "metadata": {},
   "outputs": [
    {
     "name": "stdout",
     "output_type": "stream",
     "text": [
      "Number of Arrests In Each Neighborhood: \n",
      "{'Mount Washington': 1434, 'East Hills': 1194, 'Fairywood': 127, 'Downtown': 0, 'East Liberty': 1889, 'Brighton Heights': 1114, 'Shadyside': 971, 'Hazelwood': 1396, 'South Side Flats': 3497, 'Squirrel Hill': 0}\n"
     ]
    }
   ],
   "source": [
    "import pandas as pd\n",
    "\n",
    "neighborhoods = [\"Mount Washington\", \"East Hills\", \"Fairywood\", \"Downtown\", \"East Liberty\", \"Brighton Heights\", \"Shadyside\", \"Hazelwood\", \"South Side Flats\", \"Squirrel Hill\"]\n",
    "\n",
    "arrestdata = pd.read_csv('arrests.csv')\n",
    "incident_neighborhood = \"INCIDENTNEIGHBORHOOD\"\n",
    "arrestcount = {neighborhood: 0 for neighborhood in neighborhoods}\n",
    "for index, row in arrestdata.iterrows():\n",
    "    neighborhood = row[incident_neighborhood]\n",
    "    if neighborhood in neighborhoods:\n",
    "        arrestcount[neighborhood] += 1\n",
    "print(\"Number of Arrests In Each Neighborhood: \")\n",
    "print(arrestcount)"
   ]
  },
  {
   "cell_type": "markdown",
   "id": "3c27e0fc-9608-43ff-87d3-17e171b5029a",
   "metadata": {},
   "source": [
    "The neighborhood with the least amount of police arrests should be considered the best. Therefore, Squirrel Hill and Downtown ar"
   ]
  }
 ],
 "metadata": {
  "kernelspec": {
   "display_name": "Python 3 (ipykernel)",
   "language": "python",
   "name": "python3"
  },
  "language_info": {
   "codemirror_mode": {
    "name": "ipython",
    "version": 3
   },
   "file_extension": ".py",
   "mimetype": "text/x-python",
   "name": "python",
   "nbconvert_exporter": "python",
   "pygments_lexer": "ipython3",
   "version": "3.12.4"
  }
 },
 "nbformat": 4,
 "nbformat_minor": 5
}
