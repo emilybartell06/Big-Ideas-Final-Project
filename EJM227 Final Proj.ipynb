{
 "cells": [
  {
   "cell_type": "markdown",
   "id": "f9584d5b-de5b-4b8b-9d2c-88f6c49b19e6",
   "metadata": {},
   "source": [
    "**Individual work for Final Project - Ella Mankowski**\n"
   ]
  },
  {
   "cell_type": "code",
   "execution_count": 24,
   "id": "ca9250f4-f911-4d69-b3e1-0370af726dec",
   "metadata": {},
   "outputs": [
    {
     "name": "stdout",
     "output_type": "stream",
     "text": [
      "   _id                                         address  total_count  \\\n",
      "0    1   1700 BLOCK ARLINGTON AVE PITTSBURGH, PA 15210            2   \n",
      "1    2     BREVET WAY & MINTON ST PITTSBURGH, PA 15204            1   \n",
      "2    3  TERRACE ST & WHITRIDGE ST PITTSBURGH, PA 15213            1   \n",
      "3    4      3500 BLOCK GERBER AVE PITTSBURGH, PA 15212            1   \n",
      "4    5        7500 BLOCK KELLY ST PITTSBURGH, PA 15208            1   \n",
      "\n",
      "   other_count  pistol_count  revolver_count  rifle_count  shotgun_count  \\\n",
      "0            0             1               1            0              0   \n",
      "1            0             1               0            0              0   \n",
      "2            0             1               0            0              0   \n",
      "3            0             1               0            0              0   \n",
      "4            0             1               0            0              0   \n",
      "\n",
      "   year  month  dow          neighborhood  council_district  ward  \\\n",
      "0  2015      1    0  Mount Oliver Borough               3.0   0.0   \n",
      "1  2015      1    0              Sheraden               2.0  20.0   \n",
      "2  2015      1    0       Terrace Village               6.0   4.0   \n",
      "3  2015      1    0      Brighton Heights               1.0  27.0   \n",
      "4  2015      1    0                   NaN               NaN   NaN   \n",
      "\n",
      "          tract  public_works_division police_zone fire_zone   latitude  \\\n",
      "0  4.200317e+10                    0.0           3       4-6  40.417619   \n",
      "1  4.200356e+10                    5.0           6      1-16  40.456904   \n",
      "2  4.200305e+10                    3.0           2      2-10  40.441185   \n",
      "3  4.200327e+10                    1.0           1      1-14  40.479530   \n",
      "4           NaN                    NaN           5       NaN        NaN   \n",
      "\n",
      "   longitude  \n",
      "0 -79.986436  \n",
      "1 -80.052328  \n",
      "2 -79.968527  \n",
      "3 -80.033477  \n",
      "4        NaN  \n"
     ]
    }
   ],
   "source": [
    "import pandas as pd\n",
    "\n",
    "# set of 10 neighborhoods the group is choosing between\n",
    "neighborhoods = [\"Mount Washington\", \"East Hills\", \"Fairywood\", \"Central Business District\", \"East Liberty\", \"Brighton Heights\", \"Shadyside\", \"Hazelwood\", \"South Side Flats\", \"Squirrel Hill North\", \"Squirrel Hill South\"]\n",
    "\n",
    "df = pd.read_csv('firearms.csv')\n",
    "\n",
    "# preview of data\n",
    "print(df.head())"
   ]
  },
  {
   "cell_type": "code",
   "execution_count": 26,
   "id": "bc9209f7-363d-4644-a4da-a3dcece05b66",
   "metadata": {},
   "outputs": [
    {
     "name": "stdout",
     "output_type": "stream",
     "text": [
      "['Mount Oliver Borough' 'Sheraden' 'Terrace Village' 'Brighton Heights'\n",
      " nan 'Westwood' 'East Liberty' 'Upper Lawrenceville' 'Marshall-Shadeland'\n",
      " 'Beechview' 'East Hills' 'Arlington' 'Arlington Heights'\n",
      " 'Mount Washington' 'South Side Flats' 'Hazelwood' 'Homewood South'\n",
      " 'Greenfield' 'Bloomfield' 'Beltzhoover' 'Homewood North' 'Upper Hill'\n",
      " 'Perry South' 'Lincoln-Lemington-Belmar' 'Bedford Dwellings'\n",
      " 'Homewood West' 'Carrick' 'Central Northside' 'Chateau' 'Fineview'\n",
      " 'Chartiers City' 'Larimer' 'Polish Hill' 'South Shore' 'Highland Park'\n",
      " 'Knoxville' 'Lower Lawrenceville' 'Allentown' 'Spring Hill-City View'\n",
      " 'Garfield' 'Bluff' 'Overbrook' 'South Side Slopes'\n",
      " 'Central Business District' 'Banksville' 'Perry North' 'Friendship'\n",
      " 'Crawford-Roberts' 'Middle Hill' 'Brookline' 'Point Breeze'\n",
      " 'Crafton Heights' 'Northview Heights' 'South Oakland'\n",
      " 'Point Breeze North' 'East Allegheny' 'Elliott' 'Fairywood' 'Shadyside'\n",
      " 'Allegheny West' 'Manchester' 'North Oakland' 'Troy Hill' 'West Oakland'\n",
      " 'Summer Hill' 'Spring Garden' 'Stanton Heights' 'Allegheny Center'\n",
      " 'Glen Hazel' 'Squirrel Hill South' 'California-Kirkbride'\n",
      " 'Strip District' 'Squirrel Hill North' 'Morningside' 'Central Oakland'\n",
      " 'Central Lawrenceville' 'Regent Square' 'St. Clair' 'Duquesne Heights'\n",
      " 'Oakwood' 'Windgap' 'Bon Air' 'North Shore' 'Lincoln Place' 'Mt. Oliver'\n",
      " 'West End' 'Esplen' 'Hays' 'Swisshelm Park']\n"
     ]
    }
   ],
   "source": [
    "# getting the names of each of the neighborhoods. I noticed that Downtown is called \"Central Business District\" and Squirell Hill is split into North and South\n",
    "unique_vals = df['neighborhood'].unique()\n",
    "\n",
    "print(unique_vals)"
   ]
  },
  {
   "cell_type": "code",
   "execution_count": 28,
   "id": "496a7334-d184-49c6-824f-15a549cd2231",
   "metadata": {},
   "outputs": [
    {
     "name": "stdout",
     "output_type": "stream",
     "text": [
      "Number of gun seizures in each neighborhood:\n",
      "{'Mount Washington': 78, 'East Hills': 109, 'Fairywood': 7, 'Central Business District': 112, 'East Liberty': 74, 'Brighton Heights': 82, 'Shadyside': 25, 'Hazelwood': 112, 'South Side Flats': 180, 'Squirrel Hill North': 10, 'Squirrel Hill South': 33}\n"
     ]
    }
   ],
   "source": [
    "# iterates through data, counting the number of firearm seizures in each neighborhood\n",
    "seizurecount = {neighborhood: 0 for neighborhood in neighborhoods}\n",
    "for index, row in df.iterrows():\n",
    "    neighborhood = row[\"neighborhood\"]\n",
    "    if neighborhood in neighborhoods:\n",
    "        seizurecount[neighborhood] += 1\n",
    "\n",
    "print(\"Number of gun seizures in each neighborhood:\")\n",
    "print(seizurecount)"
   ]
  },
  {
   "cell_type": "markdown",
   "id": "e8dc23be-b0f9-4c95-aa67-49e5d4a212e0",
   "metadata": {},
   "source": [
    "The neighborhoods with the least amount of gun seizures would be considered the \"best.\" Therefore, the \"best\" neighborhoods are Fairywood (7), Shadyside (25), and Squirrel Hill (43 when you sum north and south)."
   ]
  },
  {
   "cell_type": "code",
   "execution_count": null,
   "id": "d9481907-dc32-421a-a2d3-8f0c6bdeb8b7",
   "metadata": {},
   "outputs": [],
   "source": []
  }
 ],
 "metadata": {
  "kernelspec": {
   "display_name": "Python 3 (ipykernel)",
   "language": "python",
   "name": "python3"
  },
  "language_info": {
   "codemirror_mode": {
    "name": "ipython",
    "version": 3
   },
   "file_extension": ".py",
   "mimetype": "text/x-python",
   "name": "python",
   "nbconvert_exporter": "python",
   "pygments_lexer": "ipython3",
   "version": "3.12.4"
  }
 },
 "nbformat": 4,
 "nbformat_minor": 5
}
